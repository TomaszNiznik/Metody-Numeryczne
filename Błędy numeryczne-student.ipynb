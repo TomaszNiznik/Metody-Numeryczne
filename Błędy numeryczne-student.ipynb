{
 "cells": [
  {
   "cell_type": "markdown",
   "id": "laughing-breeding",
   "metadata": {},
   "source": [
    "Zagadnienia:\n",
    "* Reprezentacja liczb w komputerze:\n",
    "    * Zapis stałoprzecinkowy,\n",
    "    * Zapis zmiennoprzecinkowy (standard IEEE 754),\n",
    "* Błędy numeryczne:\n",
    "    * Błąd względny i bezwzględny.\n",
    "    * Błąd zaokrąglenia (ang. *round-off error*).\n",
    "    * Błąd obcięcia (ang. *truncation error*).\n",
    "    * Błędy związane z przyjętym sposobem rozwiązywania."
   ]
  },
  {
   "cell_type": "markdown",
   "id": "different-patrol",
   "metadata": {},
   "source": [
    "# Błędy numeryczne"
   ]
  },
  {
   "cell_type": "markdown",
   "id": "rotary-frank",
   "metadata": {},
   "source": [
    "## Błąd względny i bezwzględny"
   ]
  },
  {
   "cell_type": "markdown",
   "id": "actual-representation",
   "metadata": {},
   "source": [
    "***Zadanie 1.***  \n",
    "Liczbę $\\textrm{e}$ możemy zdefiniować jako $\\sum\\limits_{n=0}^{\\infty} \\frac{1}{n!}$. Oblicz błąd względny i bezwzględny aproksymacji liczby $\\textrm{e}$ poprzez $\\textrm{e}^{*}$ w przypadku gdy:  \n",
    "* $\\textrm{e}_1^{*}=\\sum\\limits_{n=0}^{5} \\frac{1}{n!}$    \n",
    "\n",
    "* $\\textrm{e}_2^{*}=\\sum\\limits_{n=0}^{10} \\frac{1}{n!}$  \n",
    "\n",
    "* $\\textrm{e}_3^{*}=\\sum\\limits_{n=0}^{20} \\frac{1}{n!}$  "
   ]
  },
  {
   "cell_type": "code",
   "execution_count": 3,
   "id": "chinese-mathematics",
   "metadata": {},
   "outputs": [
    {
     "name": "stdout",
     "output_type": "stream",
     "text": [
      "Aproksymacja e1* (do n=5): 2.716666666666667\n",
      "Błąd bezwzględny: 0.0016151617923783057, Błąd względny: 0.0005941848175815963\n",
      "----------------------------------------\n",
      "Aproksymacja e2* (do n=10): 2.7182818011463845\n",
      "Błąd bezwzględny: 2.7312660577649694e-08, Błąd względny: 1.0047766310211053e-08\n",
      "----------------------------------------\n",
      "Aproksymacja e3* (do n=20): 2.718281828459045\n",
      "Błąd bezwzględny: 0.0, Błąd względny: 0.0\n"
     ]
    }
   ],
   "source": [
    "import math\n",
    "\n",
    "# Dokładna wartość liczby e\n",
    "e_exact = math.e\n",
    "\n",
    "# Funkcja do obliczania aproksymacji liczby e\n",
    "def approximate_e(n):\n",
    "    return sum(1 / math.factorial(i) for i in range(n + 1))\n",
    "\n",
    "# Funkcja do obliczania błędów\n",
    "def calculate_errors(x0, x):\n",
    "    abs_error = abs(x - x0)  # Błąd bezwzględny\n",
    "    rel_error = abs_error / abs(x0)  # Błąd względny\n",
    "    return abs_error, rel_error\n",
    "\n",
    "# Aproksymacje dla różnych zakresów n\n",
    "e1_star = approximate_e(5)  # Do n=5\n",
    "e2_star = approximate_e(10)  # Do n=10\n",
    "e3_star = approximate_e(20)  # Do n=20\n",
    "\n",
    "# Obliczanie błędów dla każdej aproksymacji\n",
    "abs_error_1, rel_error_1 = calculate_errors(e_exact, e1_star)\n",
    "abs_error_2, rel_error_2 = calculate_errors(e_exact, e2_star)\n",
    "abs_error_3, rel_error_3 = calculate_errors(e_exact, e3_star)\n",
    "\n",
    "# Wyświetlanie wyników\n",
    "print(f\"Aproksymacja e1* (do n=5): {e1_star}\")\n",
    "print(f\"Błąd bezwzględny: {abs_error_1}, Błąd względny: {rel_error_1}\")\n",
    "print(\"-\" * 40)\n",
    "print(f\"Aproksymacja e2* (do n=10): {e2_star}\")\n",
    "print(f\"Błąd bezwzględny: {abs_error_2}, Błąd względny: {rel_error_2}\")\n",
    "print(\"-\" * 40)\n",
    "print(f\"Aproksymacja e3* (do n=20): {e3_star}\")\n",
    "print(f\"Błąd bezwzględny: {abs_error_3}, Błąd względny: {rel_error_3}\")\n",
    "\n"
   ]
  },
  {
   "cell_type": "markdown",
   "id": "fiscal-momentum",
   "metadata": {},
   "source": [
    "## Zapis zmiennoprzecinkowy"
   ]
  },
  {
   "cell_type": "markdown",
   "id": "final-venezuela",
   "metadata": {},
   "source": [
    "**Uwaga**: Używane tu pojęcie **cecha** ma inne znaczenie, niż poznane być może w szkole – skrótowo: „część całkowita”. Dlatego poniżej dodawane jest inne określenie – „wykładnik”."
   ]
  },
  {
   "cell_type": "code",
   "execution_count": null,
   "id": "painful-monitoring",
   "metadata": {},
   "outputs": [],
   "source": [
    "import numpy as np\n",
    "import matplotlib.pyplot as plt\n",
    "import sys"
   ]
  },
  {
   "cell_type": "code",
   "execution_count": null,
   "id": "collectible-survivor",
   "metadata": {
    "scrolled": true
   },
   "outputs": [],
   "source": [
    "print(np.finfo(float))\n",
    "eps = np.finfo(float).eps"
   ]
  },
  {
   "cell_type": "markdown",
   "id": "registered-immigration",
   "metadata": {},
   "source": [
    "***Zadanie 2.***\n",
    "\n",
    "\n",
    "a) Wstaw dowolną wartość do liczby x, np. 0.1. Które liczby mają tę samą mantysę, a które tę samą cechę (wykładnik)? Sprawdź wypisując ich wartości w formacie hex.\n"
   ]
  },
  {
   "cell_type": "markdown",
   "id": "sapphire-tuesday",
   "metadata": {},
   "source": [
    "**Uwaga:** Do odczytania liczby w formacie szesnastkowym możesz wykorzystać funkcję:"
   ]
  },
  {
   "cell_type": "code",
   "execution_count": 5,
   "id": "concrete-webmaster",
   "metadata": {},
   "outputs": [
    {
     "data": {
      "text/plain": [
       "'0x1.4000000000000p+0'"
      ]
     },
     "execution_count": 5,
     "metadata": {},
     "output_type": "execute_result"
    }
   ],
   "source": [
    "1.25.hex()"
   ]
  },
  {
   "cell_type": "code",
   "execution_count": 7,
   "id": "96e3aec4",
   "metadata": {},
   "outputs": [
    {
     "data": {
      "text/plain": [
       "'0x1.3880000000000p+12'"
      ]
     },
     "execution_count": 7,
     "metadata": {},
     "output_type": "execute_result"
    }
   ],
   "source": [
    "5000.0.hex()"
   ]
  },
  {
   "cell_type": "markdown",
   "id": "constant-sphere",
   "metadata": {},
   "source": [
    "lub"
   ]
  },
  {
   "cell_type": "code",
   "execution_count": 9,
   "id": "humanitarian-somerset",
   "metadata": {},
   "outputs": [],
   "source": [
    "import struct\n",
    "def double_to_hex(f):\n",
    "    print(hex(struct.unpack('<Q', struct.pack('<d', f))[0]))"
   ]
  },
  {
   "cell_type": "code",
   "execution_count": 11,
   "id": "regular-possibility",
   "metadata": {
    "scrolled": true
   },
   "outputs": [
    {
     "name": "stdout",
     "output_type": "stream",
     "text": [
      "0x3ff4000000000000\n"
     ]
    }
   ],
   "source": [
    "double_to_hex(1.25)"
   ]
  },
  {
   "cell_type": "markdown",
   "id": "heated-session",
   "metadata": {},
   "source": [
    "Zamianę w drugą stronę można przeprowadzić za pomocą funkcji *int*"
   ]
  },
  {
   "cell_type": "code",
   "execution_count": 13,
   "id": "three-butler",
   "metadata": {},
   "outputs": [
    {
     "data": {
      "text/plain": [
       "1023"
      ]
     },
     "execution_count": 13,
     "metadata": {},
     "output_type": "execute_result"
    }
   ],
   "source": [
    "int('3ff', 16)"
   ]
  },
  {
   "cell_type": "code",
   "execution_count": 19,
   "id": "completed-vault",
   "metadata": {},
   "outputs": [
    {
     "name": "stdout",
     "output_type": "stream",
     "text": [
      "Liczba: 0.1\n",
      "Reprezentacja hex: 0x1.999999999999ap-4\n",
      "Mantysa: 0x1.999999999999a\n",
      "Wykładnik: -4\n",
      "\n",
      "Liczba: 0.2\n",
      "Reprezentacja hex: 0x1.999999999999ap-3\n",
      "Mantysa: 0x1.999999999999a\n",
      "Wykładnik: -3\n",
      "\n",
      "Liczba: 0.3\n",
      "Reprezentacja hex: 0x1.3333333333333p-2\n",
      "Mantysa: 0x1.3333333333333\n",
      "Wykładnik: -2\n",
      "\n",
      "Liczba: 1.0\n",
      "Reprezentacja hex: 0x1.0000000000000p+0\n",
      "Mantysa: 0x1.0000000000000\n",
      "Wykładnik: 0\n",
      "\n"
     ]
    }
   ],
   "source": [
    "# Liczby do analizy\n",
    "numbers = [0.1, 0.2, 0.3, 1.0]\n",
    "\n",
    "# Dzielimy każdą liczbę na mantysę i wykładnik\n",
    "for num in numbers:\n",
    "    # Zamiana liczby na hex\n",
    "    hex_rep = str(num.hex())\n",
    "    \n",
    "    # Dzielimy reprezentację na mantysę i wykładnik\n",
    "    mantysa, komponent = hex_rep.split(\"p\")\n",
    "    \n",
    "    # Wyświetlamy mantysę i wykładnik\n",
    "    print(f\"Liczba: {num}\")\n",
    "    print(f\"Reprezentacja hex: {hex_rep}\")\n",
    "    print(f\"Mantysa: {mantysa}\")\n",
    "    print(f\"Wykładnik: {int(komponent)}\\n\")"
   ]
  },
  {
   "cell_type": "markdown",
   "id": "higher-router",
   "metadata": {},
   "source": [
    "\n",
    "\n",
    "b) Porównaj zapis liczb 0.1, 0.2 i 0.3 w formacie zmiennoprzecinkowym.\n",
    "\n",
    "* Czy można przewidzieć, czy suma 0.1 + 0.2 będzie reprezentowana dokładnie tak samo jak liczba 0.3?\n",
    "* Jaki będzie wynik porównania tej sumy z liczbą 0.3 i konsekwencje użycia warunku równościowego / nierównościowego w pętli?\n",
    "\n"
   ]
  },
  {
   "cell_type": "code",
   "execution_count": 17,
   "id": "limiting-paradise",
   "metadata": {},
   "outputs": [
    {
     "name": "stdout",
     "output_type": "stream",
     "text": [
      "0.1 w hex: 0x1.999999999999ap-4\n",
      "0.2 w hex: 0x1.999999999999ap-3\n",
      "0.3 w hex: 0x1.3333333333333p-2\n",
      "Suma 0.1 + 0.2 w hex: 0x1.3333333333334p-2\n",
      "0.3 w hex: 0x1.3333333333333p-2\n",
      "Suma 0.1 + 0.2 NIE jest równa 0.3\n"
     ]
    }
   ],
   "source": [
    "# Liczby do analizy\n",
    "numbers = [0.1, 0.2, 0.3]\n",
    "\n",
    "# Zamiana liczb na zapis szesnastkowy i porównanie sumy z 0.3\n",
    "for num in numbers:\n",
    "    hex_rep = str(num.hex())  # Zamiana liczby na hex\n",
    "    print(f\"{num} w hex: {hex_rep}\")\n",
    "\n",
    "# Dodanie 0.1 i 0.2\n",
    "sum_01_02 = 0.1 + 0.2\n",
    "\n",
    "# Porównanie sumy z 0.3\n",
    "print(f\"Suma 0.1 + 0.2 w hex: {str(sum_01_02.hex())}\")\n",
    "print(f\"0.3 w hex: {str(0.3.hex())}\")\n",
    "\n",
    "# Sprawdzamy, czy suma 0.1 + 0.2 jest równa 0.3\n",
    "if sum_01_02 == 0.3:\n",
    "    print(\"Suma 0.1 + 0.2 jest równa 0.3\")\n",
    "else:\n",
    "    print(\"Suma 0.1 + 0.2 NIE jest równa 0.3\")\n"
   ]
  },
  {
   "cell_type": "markdown",
   "id": "brutal-windows",
   "metadata": {},
   "source": [
    "c) Przyjmijmy, że „skrótowe” określenie *liczba dokładnie reprezentowana* oznacza liczbę, która jest reprezentowana w formacie zmiennoprzecinkowym dokładnie, tzn. bez konieczności zaokrąglania.\n",
    "* Ile jest liczb dokładnie reprezentowanych w przedziale $[1, 2)$?\n",
    "* Zaobserwuj (z pomocą formatu hex) jakie wartości mają bity w polu mantysy w przypadku liczby 1.0.\n",
    "* Jaką liczbę trzeba dodać do 1.0, aby tylko na najmłodszej pozycji pola mantysy pojawiło się 1?\n",
    "* Czy wyżej otrzymana suma jest najmniejszą liczbą dokładnie reprezentowana, spośród liczb większych od 1?\n",
    "* Jak przypuszczasz, jakie wartości będą miały poszczególne bity mantysy w przypadku największej liczby dokładnie reprezentowanej, której cecha (wykładnik) jest równy 0? Sprawdź, czy tak jest rzeczywiście – wpisując wartość tej liczby (jaka to jest wartość?).\n"
   ]
  },
  {
   "cell_type": "code",
   "execution_count": 23,
   "id": "operating-cotton",
   "metadata": {},
   "outputs": [
    {
     "name": "stdout",
     "output_type": "stream",
     "text": [
      "Liczba: 1.0\n",
      "Reprezentacja hex: 0x1.0000000000000p+0\n",
      "Mantysa: 0x1.0000000000000\n",
      "Wykładnik: 0\n",
      "Minimalna liczba większa od 1.0: 1.0000000000000002\n",
      "Najmniejsza liczba do dodania, aby najmłodszy bit mantysy był 1: 2.220446049250313e-16\n",
      "Najmniejsza dokładnie reprezentowana liczba (wykładnik 0): 2.2250738585072014e-308\n"
     ]
    }
   ],
   "source": [
    "# Liczba do analizy\n",
    "numbers = [1.0]\n",
    "\n",
    "# Analiza liczby 1.0\n",
    "for liczba in numbers:\n",
    "    # Zamiana liczby na hex\n",
    "    hex_rep = str(liczba.hex())\n",
    "    \n",
    "    # Dzielimy reprezentację na mantysę i wykładnik\n",
    "    mantysa, komponent = hex_rep.split(\"p\")\n",
    "    \n",
    "    # Wyświetlamy mantysę i wykładnik\n",
    "    print(f\"Liczba: {liczba}\")\n",
    "    print(f\"Reprezentacja hex: {hex_rep}\")\n",
    "    print(f\"Mantysa: {mantysa}\")\n",
    "    print(f\"Wykładnik: {int(komponent)}\")\n",
    "\n",
    "# Minimalna liczba dokładnie reprezentowana większa od 1.0 (najmniejsza liczba reprezentowana dokładnie)\n",
    "minimalna_dokladna = 1.0 + 2**(-52)\n",
    "print(f\"Minimalna liczba większa od 1.0: {minimalna_dokladna}\")\n",
    "\n",
    "# Liczba, którą trzeba dodać, aby zmienić najmłodszy bit mantysy\n",
    "najmniejsza_liczba = 2**(-52)\n",
    "print(f\"Najmniejsza liczba do dodania, aby najmłodszy bit mantysy był 1: {najmniejsza_liczba}\")\n",
    "\n",
    "# Najmniejsza dokładnie reprezentowana liczba, której cecha (wykładnik) jest równy 0\n",
    "# Dla podwójnej precyzji (64 bity) jest to 2**(-1022), z zachowaniem IEEE 754\n",
    "najmniejsza_liczba_dokladna = 2**(-1022)\n",
    "print(f\"Najmniejsza dokładnie reprezentowana liczba (wykładnik 0): {najmniejsza_liczba_dokladna}\")\n",
    "\n"
   ]
  },
  {
   "cell_type": "markdown",
   "id": "straight-institute",
   "metadata": {},
   "source": [
    "d) Oblicz długości przedziałów, do których należą wszystkie liczby mające cechę (wykładnik) równy: 0, 1, 2, 5, -1, -3.\n",
    "\n",
    "* Czy w każdym z tych przedziałów jest tyle samo liczb dokładnie reprezentowanych? Jeżeli nie, to ile w każdym z nich?\n",
    "* Jaka jest odległość między dwoma sąsiednimi liczbami dokładnie reprezentowanymi (odległość, czyli różnica ich wartości) w każdym z tych przedziałów?\n",
    "* Jaki jest maksymalny błąd bezwzględny zaokrąglenia w każdym z tych przedziałów?\n",
    "* Jaki jest maksymalny błąd względny zaokrąglenia w każdym z tych przedziałów?\n",
    "\n",
    "\n",
    "\n"
   ]
  },
  {
   "cell_type": "code",
   "execution_count": null,
   "id": "confirmed-stream",
   "metadata": {},
   "outputs": [],
   "source": []
  },
  {
   "cell_type": "markdown",
   "id": "toxic-sixth",
   "metadata": {},
   "source": [
    "***Zadanie 3.***\n",
    "\n",
    "Spójrz na poniższe zjawiska, zastanów się nad ich przyczynami."
   ]
  },
  {
   "cell_type": "markdown",
   "id": "further-freedom",
   "metadata": {},
   "source": [
    "***Problem skali***"
   ]
  },
  {
   "cell_type": "markdown",
   "id": "removable-victory",
   "metadata": {},
   "source": [
    "Jaki wynika da poniższy kod:"
   ]
  },
  {
   "cell_type": "code",
   "execution_count": 25,
   "id": "adjusted-delivery",
   "metadata": {},
   "outputs": [
    {
     "name": "stdout",
     "output_type": "stream",
     "text": [
      "1.00000000000000000\n"
     ]
    }
   ],
   "source": [
    "a = 1.0\n",
    "b = 0.0000000000000000000000001\n",
    "c = a + b\n",
    "print(f'{c:.17f}')"
   ]
  },
  {
   "cell_type": "markdown",
   "id": "secret-raise",
   "metadata": {},
   "source": [
    "***Problem reprezentacji w zapisie binarnym*** "
   ]
  },
  {
   "cell_type": "code",
   "execution_count": 27,
   "id": "f6596f1a",
   "metadata": {},
   "outputs": [
    {
     "name": "stdout",
     "output_type": "stream",
     "text": [
      "False\n"
     ]
    }
   ],
   "source": [
    "if 0.1+0.2==0.3:\n",
    "    print(\"True\")\n",
    "else:\n",
    "    print(\"False\")"
   ]
  },
  {
   "cell_type": "code",
   "execution_count": 29,
   "id": "cross-ranch",
   "metadata": {},
   "outputs": [
    {
     "name": "stdout",
     "output_type": "stream",
     "text": [
      "9.999999999999980\n"
     ]
    }
   ],
   "source": [
    "suma = 0\n",
    "for i in range(0,100):\n",
    "    suma += 0.1\n",
    "print(f'{suma:.15f}')"
   ]
  },
  {
   "cell_type": "markdown",
   "id": "56086598",
   "metadata": {},
   "source": [
    "**Zadanie 4.**"
   ]
  },
  {
   "cell_type": "markdown",
   "id": "35804ff5",
   "metadata": {},
   "source": [
    "Niech:\n",
    "* $a=0.3$\n",
    "* $b=10^{-13}$\n",
    "* $c=a-b$\n",
    "* $d=a-c$\n",
    "\n",
    "Czy $b$ i $d$ są sobie równe w sensie analitycznym? Co z przypadkiem numerycznym? Zdefiniuj odpowiednie zmienne i porównaj wyniki. Porównaj szesnastkowe i dziesietne reprezentacje zmiennych `b` i `d`. Ile cyfr w reprezentacji `d` możemy uznać za wiarygodne?"
   ]
  },
  {
   "cell_type": "code",
   "execution_count": 31,
   "id": "47593036",
   "metadata": {},
   "outputs": [
    {
     "name": "stdout",
     "output_type": "stream",
     "text": [
      "b (decimal): 1e-13\n",
      "d (decimal): 9.997558336749535e-14\n",
      "b (hex): 0x1.c25c268497682p-44\n",
      "d (hex): 0x1.c240000000000p-44\n",
      "Are b and d equal? False\n"
     ]
    }
   ],
   "source": [
    "import numpy as np\n",
    "\n",
    "# Definicja zmiennych\n",
    "a = 0.3\n",
    "b = 10**-13\n",
    "c = a - b\n",
    "d = a - c\n",
    "\n",
    "# Reprezentacja dziesiętna\n",
    "print(f'b (decimal): {b}')\n",
    "print(f'd (decimal): {d}')\n",
    "\n",
    "# Reprezentacja szesnastkowa\n",
    "print(f'b (hex): {np.float64(b).hex()}')\n",
    "print(f'd (hex): {np.float64(d).hex()}')\n",
    "\n",
    "# Sprawdzenie, czy b i d są równe\n",
    "print(f'Are b and d equal? {b == d}')\n"
   ]
  },
  {
   "cell_type": "markdown",
   "id": "57bcce2e",
   "metadata": {},
   "source": [
    "**Zadanie 5.**"
   ]
  },
  {
   "cell_type": "markdown",
   "id": "33dd498c",
   "metadata": {},
   "source": [
    "Rozważmy macierz kwadratową:\n",
    "$$ A=\\left[\\begin{array}{ccc}\n",
    "\\sqrt{2} & \\frac{1}{7}\\\\\n",
    "\\pi\\sqrt{2} &\\frac{\\pi}{7}\\\\\n",
    "\\end{array}\\right]\n",
    "$$\n",
    "* Czy jest to macierz osobliwa? Jak to sprawdzić?\n",
    "* Oblicz wyznacznik tej macierzy w sposób analityczny i numeryczny (`np.linalg.det`). Czy otrzymałeś te same wartości? Czy wyniki obliczeń numerycznych prowadzą do poprawnej odpowiedzi na pierwsze pytanie? Jakie może to mieć skutki?"
   ]
  },
  {
   "cell_type": "code",
   "execution_count": 46,
   "id": "7b46d638",
   "metadata": {},
   "outputs": [
    {
     "name": "stdout",
     "output_type": "stream",
     "text": [
      "Wyznacznik macierzy A: 0.0\n",
      "Macierz jest osobliwa.\n"
     ]
    }
   ],
   "source": [
    "import numpy as np\n",
    "\n",
    "# Definicja macierzy A\n",
    "A = np.array([[np.sqrt(2), 1/7], [np.pi*np.sqrt(2), np.pi/7]])\n",
    "\n",
    "# Obliczenie wyznacznika\n",
    "det_A = np.linalg.det(A)\n",
    "\n",
    "# Wyświetlenie wyniku wyznacznika\n",
    "print(f\"Wyznacznik macierzy A: {det_A}\")\n",
    "\n",
    "# Sprawdzenie, czy macierz jest osobliwa\n",
    "if det_A == 0:\n",
    "    print(\"Macierz jest osobliwa.\")\n",
    "else:\n",
    "    print(\"Macierz jest nieosobliwa.\")\n",
    "\n",
    "\n"
   ]
  },
  {
   "cell_type": "markdown",
   "id": "4db8468c",
   "metadata": {},
   "source": [
    "**Zadanie 6.**"
   ]
  },
  {
   "cell_type": "markdown",
   "id": "e1f226f5",
   "metadata": {},
   "source": [
    "Jedną z metod rozwiązywania równań nieliniowych jest metoda Newtona. Metoda ta powtarza obliczenia, aż spełniony nie będzie warunek stopu. Jeżeli spełnione są odpowiednie założenia to metoda ta zbiega do rozwiązania. Załóżmy, że warunki są spełnione i rozważmy funkcję $f(x)=cos(x)-x$. Poniżej znajdziesz implementację metody Newtona, w której brakuje warunku stopu. Spróbuj go uzupełnić. Warunek powinien być spełniony w momencie, w którym chcemy zakończyć działanie procedury.\n",
    "\n",
    "Z matematycznego punktu widzenia znajdujemy się w zerze, jeżeli kolejne przybliżenia uzyskane z metody Newtona nie różnią się od siebie (np. dwa ostatnie). Zaimplementuj taki warunek i sprawdź, czy program zatrzyma się. Czy taki warunek stopu jest bezpieczny i można go stosować uniwersalnie? Jak można go poprawić?"
   ]
  },
  {
   "cell_type": "code",
   "execution_count": null,
   "id": "26eb839f",
   "metadata": {},
   "outputs": [],
   "source": [
    "def newton(f, f_prim, x_0):\n",
    "    x_prev = x_0\n",
    "    while True:\n",
    "        x_n=x_prev-(f(x_prev)/f_prim(x_prev))\n",
    "        print(f'x_0={x_n}')\n",
    "        double_to_hex(x_n)\n",
    "        \n",
    "        if True: # Zastąp True swoim warunkiem stopu\n",
    "            return x_n\n",
    "        else:\n",
    "            x_prev=x_n"
   ]
  },
  {
   "cell_type": "code",
   "execution_count": null,
   "id": "8c8e359e",
   "metadata": {},
   "outputs": [],
   "source": [
    "def f(x):\n",
    "    return # Uzupełnij definicję funkcji \n",
    "\n",
    "def f_prim(x):\n",
    "    return # Uzupełnij definicję pochodnej"
   ]
  },
  {
   "cell_type": "code",
   "execution_count": null,
   "id": "03aa3df9",
   "metadata": {},
   "outputs": [],
   "source": []
  },
  {
   "cell_type": "markdown",
   "id": "republican-insider",
   "metadata": {},
   "source": [
    "**Zadanie domowe**  \n",
    "\n",
    "Dany jest ciąg:  \n",
    "  \n",
    "$G(p)=\\cfrac{1}{p}\\left[10^{p}\\left(1+p\\pi^{*} \\cdot 10^{-p}\\right)-10^{p}\\right],\\ p=1,2,3,\\dots,n $,\n",
    "w którym $\\pi^{*}$ jest przybliżeniem liczby $\\pi$ z dokładnością do 15 miejsc po przecinku.\n",
    "  \n",
    "Stwórz funkcję, która umożliwi obliczenie $n$ pierwszych wyrazów tego ciągu i zwróci je w postaci wektora (do przybliżenia wartości $\\pi$ możesz wykorzystać funkcję *[round](https://numpy.org/doc/stable/reference/generated/numpy.round_.html)*). Oblicz błąd bezwzględny i błąd względny otrzymanych wyników. Przedstaw rezultaty na wykresie w zależności od $n$. Wartości błędów przedstaw w skali logarytmicznej (funkcja *plt.semilogy()*).\n",
    "\n",
    "Przeanalizuj rozwiązanie i odpowiedz na następujące pytania:  \n",
    "* Czy w obliczeniach analitycznych wartość $G(p)$ zależy od $p$?\n",
    "* Jak zmienia się błąd w zależności od $n$? O czym to świadczy?\n",
    "* Z jakim/jakimi rodzajami błędu mamy do czynienie?\n"
   ]
  },
  {
   "cell_type": "code",
   "execution_count": null,
   "id": "regular-malpractice",
   "metadata": {},
   "outputs": [],
   "source": []
  }
 ],
 "metadata": {
  "kernelspec": {
   "display_name": "Python 3 (ipykernel)",
   "language": "python",
   "name": "python3"
  },
  "language_info": {
   "codemirror_mode": {
    "name": "ipython",
    "version": 3
   },
   "file_extension": ".py",
   "mimetype": "text/x-python",
   "name": "python",
   "nbconvert_exporter": "python",
   "pygments_lexer": "ipython3",
   "version": "3.12.4"
  }
 },
 "nbformat": 4,
 "nbformat_minor": 5
}
